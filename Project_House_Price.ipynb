{
  "cells": [
    {
      "cell_type": "markdown",
      "metadata": {
        "id": "view-in-github",
        "colab_type": "text"
      },
      "source": [
        "<a href=\"https://colab.research.google.com/github/stevengregori92/Project-House-Price/blob/main/Project_House_Price.ipynb\" target=\"_parent\"><img src=\"https://colab.research.google.com/assets/colab-badge.svg\" alt=\"Open In Colab\"/></a>"
      ]
    },
    {
      "cell_type": "markdown",
      "id": "39c877c9",
      "metadata": {
        "id": "39c877c9"
      },
      "source": [
        "# Project - Parameters with Highest Impact on House Prices"
      ]
    },
    {
      "cell_type": "markdown",
      "id": "26869a35",
      "metadata": {
        "id": "26869a35"
      },
      "source": [
        "![Data Science Workflow](img/ds-workflow.png)"
      ]
    },
    {
      "cell_type": "markdown",
      "id": "b92a93e8",
      "metadata": {
        "id": "b92a93e8"
      },
      "source": [
        "## Goal of Project\n",
        "- A real estate dealer wants to figure out what matters most when selling a house\n",
        "- They provide various sales data\n",
        "- Your job is to figure out which 10 parameters (features) matter the most and present the findings"
      ]
    },
    {
      "cell_type": "markdown",
      "id": "77f362c4",
      "metadata": {
        "id": "77f362c4"
      },
      "source": [
        "## Step 1: Acquire\n",
        "- Explore problem\n",
        "- Identify data\n",
        "- Import data"
      ]
    },
    {
      "cell_type": "markdown",
      "id": "6f8cbbcb",
      "metadata": {
        "id": "6f8cbbcb"
      },
      "source": [
        "### Step 1.a: Import libraries\n",
        "- Execute the cell below (SHIFT + ENTER)\n",
        "- NOTE: You might need to install mlxtend, if so, run the following in a cell\n",
        "```\n",
        "!pip install mlxtend\n",
        "```"
      ]
    },
    {
      "cell_type": "code",
      "source": [
        "!pip install --upgrade mlxtend"
      ],
      "metadata": {
        "colab": {
          "base_uri": "https://localhost:8080/"
        },
        "id": "HyqoYxeaMl-S",
        "outputId": "01b7cb0c-eccd-4611-f2e8-1aac695c2bcc"
      },
      "id": "HyqoYxeaMl-S",
      "execution_count": 1,
      "outputs": [
        {
          "output_type": "stream",
          "name": "stdout",
          "text": [
            "Looking in indexes: https://pypi.org/simple, https://us-python.pkg.dev/colab-wheels/public/simple/\n",
            "Requirement already satisfied: mlxtend in /usr/local/lib/python3.8/dist-packages (0.14.0)\n",
            "Collecting mlxtend\n",
            "  Downloading mlxtend-0.21.0-py2.py3-none-any.whl (1.3 MB)\n",
            "\u001b[2K     \u001b[90m━━━━━━━━━━━━━━━━━━━━━━━━━━━━━━━━━━━━━━━━\u001b[0m \u001b[32m1.3/1.3 MB\u001b[0m \u001b[31m14.8 MB/s\u001b[0m eta \u001b[36m0:00:00\u001b[0m\n",
            "\u001b[?25hRequirement already satisfied: pandas>=0.24.2 in /usr/local/lib/python3.8/dist-packages (from mlxtend) (1.3.5)\n",
            "Requirement already satisfied: joblib>=0.13.2 in /usr/local/lib/python3.8/dist-packages (from mlxtend) (1.2.0)\n",
            "Requirement already satisfied: scikit-learn>=1.0.2 in /usr/local/lib/python3.8/dist-packages (from mlxtend) (1.0.2)\n",
            "Requirement already satisfied: matplotlib>=3.0.0 in /usr/local/lib/python3.8/dist-packages (from mlxtend) (3.2.2)\n",
            "Requirement already satisfied: setuptools in /usr/local/lib/python3.8/dist-packages (from mlxtend) (57.4.0)\n",
            "Requirement already satisfied: numpy>=1.16.2 in /usr/local/lib/python3.8/dist-packages (from mlxtend) (1.21.6)\n",
            "Requirement already satisfied: scipy>=1.2.1 in /usr/local/lib/python3.8/dist-packages (from mlxtend) (1.7.3)\n",
            "Requirement already satisfied: python-dateutil>=2.1 in /usr/local/lib/python3.8/dist-packages (from matplotlib>=3.0.0->mlxtend) (2.8.2)\n",
            "Requirement already satisfied: cycler>=0.10 in /usr/local/lib/python3.8/dist-packages (from matplotlib>=3.0.0->mlxtend) (0.11.0)\n",
            "Requirement already satisfied: pyparsing!=2.0.4,!=2.1.2,!=2.1.6,>=2.0.1 in /usr/local/lib/python3.8/dist-packages (from matplotlib>=3.0.0->mlxtend) (3.0.9)\n",
            "Requirement already satisfied: kiwisolver>=1.0.1 in /usr/local/lib/python3.8/dist-packages (from matplotlib>=3.0.0->mlxtend) (1.4.4)\n",
            "Requirement already satisfied: pytz>=2017.3 in /usr/local/lib/python3.8/dist-packages (from pandas>=0.24.2->mlxtend) (2022.7.1)\n",
            "Requirement already satisfied: threadpoolctl>=2.0.0 in /usr/local/lib/python3.8/dist-packages (from scikit-learn>=1.0.2->mlxtend) (3.1.0)\n",
            "Requirement already satisfied: six>=1.5 in /usr/local/lib/python3.8/dist-packages (from python-dateutil>=2.1->matplotlib>=3.0.0->mlxtend) (1.15.0)\n",
            "Installing collected packages: mlxtend\n",
            "  Attempting uninstall: mlxtend\n",
            "    Found existing installation: mlxtend 0.14.0\n",
            "    Uninstalling mlxtend-0.14.0:\n",
            "      Successfully uninstalled mlxtend-0.14.0\n",
            "Successfully installed mlxtend-0.21.0\n"
          ]
        }
      ]
    },
    {
      "cell_type": "code",
      "source": [
        "import pandas as pd\n",
        "from sklearn.model_selection import train_test_split\n",
        "from sklearn.metrics import r2_score\n",
        "from sklearn.feature_selection import VarianceThreshold\n",
        "from mlxtend.feature_selection import SequentialFeatureSelector as SFS\n",
        "from sklearn.linear_model import LinearRegression"
      ],
      "metadata": {
        "id": "VYM0BcF6L43j"
      },
      "id": "VYM0BcF6L43j",
      "execution_count": 2,
      "outputs": []
    },
    {
      "cell_type": "markdown",
      "id": "b5f9a799",
      "metadata": {
        "id": "b5f9a799"
      },
      "source": [
        "### Step 1.b: Read the data\n",
        "- Use ```pd.read_parquet()``` to read the file `files/house_sales.parquet`\n",
        "- NOTE: Remember to assign the result to a variable (e.g., ```data```)\n",
        "- Apply ```.head()``` on the data to see all is as expected\n",
        "    - The target is `SalePrice`"
      ]
    },
    {
      "cell_type": "code",
      "execution_count": 3,
      "id": "3b3ba927",
      "metadata": {
        "colab": {
          "base_uri": "https://localhost:8080/"
        },
        "id": "3b3ba927",
        "outputId": "36bc6442-35cb-4b24-c2ee-994c1355cd34"
      },
      "outputs": [
        {
          "output_type": "execute_result",
          "data": {
            "text/plain": [
              "Id\n",
              "1    208500\n",
              "2    181500\n",
              "3    223500\n",
              "4    140000\n",
              "5    250000\n",
              "Name: SalePrice, dtype: int64"
            ]
          },
          "metadata": {},
          "execution_count": 3
        }
      ],
      "source": [
        "data = pd.read_parquet('house_sales.parquet')\n",
        "data['SalePrice'].head()"
      ]
    },
    {
      "cell_type": "code",
      "execution_count": 4,
      "id": "e88ab2de",
      "metadata": {
        "colab": {
          "base_uri": "https://localhost:8080/"
        },
        "id": "e88ab2de",
        "outputId": "fdffbc9f-f7ca-491d-8157-c6c5884e2593"
      },
      "outputs": [
        {
          "output_type": "execute_result",
          "data": {
            "text/plain": [
              "1460"
            ]
          },
          "metadata": {},
          "execution_count": 4
        }
      ],
      "source": [
        "len(data)"
      ]
    },
    {
      "cell_type": "markdown",
      "id": "a2377dd7",
      "metadata": {
        "id": "a2377dd7"
      },
      "source": [
        "### Step 1.c: Inspect the data\n",
        "- Check the number of rows and columns\n",
        "    - HINT: `.shape`"
      ]
    },
    {
      "cell_type": "code",
      "execution_count": 5,
      "id": "9eed8d0f",
      "metadata": {
        "colab": {
          "base_uri": "https://localhost:8080/"
        },
        "id": "9eed8d0f",
        "outputId": "d34d40b8-c201-47f7-f646-c343a3b403da"
      },
      "outputs": [
        {
          "output_type": "execute_result",
          "data": {
            "text/plain": [
              "(1460, 56)"
            ]
          },
          "metadata": {},
          "execution_count": 5
        }
      ],
      "source": [
        "data.shape"
      ]
    },
    {
      "cell_type": "markdown",
      "id": "3bec949d",
      "metadata": {
        "id": "3bec949d"
      },
      "source": [
        "## Step 2: Prepare\n",
        "- Explore data\n",
        "- Visualize ideas\n",
        "- Cleaning data"
      ]
    },
    {
      "cell_type": "markdown",
      "id": "6a5d948d",
      "metadata": {
        "id": "6a5d948d"
      },
      "source": [
        "### Step 2.a: Check the data types\n",
        "- This step tells you if some numeric column is not represented numeric.\n",
        "- Get the data types by ```.dtypes```"
      ]
    },
    {
      "cell_type": "code",
      "execution_count": 6,
      "id": "58fcabb3",
      "metadata": {
        "colab": {
          "base_uri": "https://localhost:8080/"
        },
        "id": "58fcabb3",
        "outputId": "eab7a34e-1745-4c1c-f6df-622d5ca6dfd8"
      },
      "outputs": [
        {
          "output_type": "execute_result",
          "data": {
            "text/plain": [
              "MSSubClass         int64\n",
              "LotFrontage      float64\n",
              "LotArea            int64\n",
              "Street             int64\n",
              "LotShape           int64\n",
              "LandContour        int64\n",
              "Utilities          int64\n",
              "LandSlope          int64\n",
              "OverallQual        int64\n",
              "OverallCond        int64\n",
              "YearBuilt          int64\n",
              "YearRemodAdd       int64\n",
              "MasVnrArea       float64\n",
              "ExterQual          int64\n",
              "ExterCond          int64\n",
              "BsmtQual         float64\n",
              "BsmtCond         float64\n",
              "BsmtExposure     float64\n",
              "BsmtFinType1     float64\n",
              "BsmtFinSF1         int64\n",
              "BsmtFinType2     float64\n",
              "BsmtFinSF2         int64\n",
              "BsmtUnfSF          int64\n",
              "TotalBsmtSF        int64\n",
              "HeatingQC          int64\n",
              "CentralAir         int64\n",
              "1stFlrSF           int64\n",
              "2ndFlrSF           int64\n",
              "LowQualFinSF       int64\n",
              "GrLivArea          int64\n",
              "BsmtFullBath       int64\n",
              "BsmtHalfBath       int64\n",
              "FullBath           int64\n",
              "HalfBath           int64\n",
              "BedroomAbvGr       int64\n",
              "KitchenAbvGr       int64\n",
              "KitchenQual        int64\n",
              "TotRmsAbvGrd       int64\n",
              "Fireplaces         int64\n",
              "FireplaceQu      float64\n",
              "GarageYrBlt      float64\n",
              "GarageCars         int64\n",
              "GarageArea         int64\n",
              "GarageQual       float64\n",
              "GarageCond       float64\n",
              "WoodDeckSF         int64\n",
              "OpenPorchSF        int64\n",
              "EnclosedPorch      int64\n",
              "3SsnPorch          int64\n",
              "ScreenPorch        int64\n",
              "PoolArea           int64\n",
              "PoolQC           float64\n",
              "MiscVal            int64\n",
              "MoSold             int64\n",
              "YrSold             int64\n",
              "SalePrice          int64\n",
              "dtype: object"
            ]
          },
          "metadata": {},
          "execution_count": 6
        }
      ],
      "source": [
        "data.dtypes"
      ]
    },
    {
      "cell_type": "markdown",
      "id": "2867789a",
      "metadata": {
        "id": "2867789a"
      },
      "source": [
        "### Step 2.b: Check for null (missing) values\n",
        "- Let's check if any features are not valuable\n",
        "- Use ```.info()```\n",
        "- Should we remove any?\n",
        "    - You can remove features (columns):\n",
        "    ```Python\n",
        "data.drop([<column_name>, ..., <column_name>], axis=1)\n",
        "```\n",
        "- If you keep some with missing value you can add -1 `fillna(-1)`\n",
        "    - Notice: This is not a validated or good approach - but for this purpose it will do"
      ]
    },
    {
      "cell_type": "code",
      "execution_count": 7,
      "id": "cf20f700",
      "metadata": {
        "colab": {
          "base_uri": "https://localhost:8080/"
        },
        "id": "cf20f700",
        "outputId": "24786706-42af-4fd9-da2b-f68c4bff205b"
      },
      "outputs": [
        {
          "output_type": "stream",
          "name": "stdout",
          "text": [
            "<class 'pandas.core.frame.DataFrame'>\n",
            "Int64Index: 1460 entries, 1 to 1460\n",
            "Data columns (total 56 columns):\n",
            " #   Column         Non-Null Count  Dtype  \n",
            "---  ------         --------------  -----  \n",
            " 0   MSSubClass     1460 non-null   int64  \n",
            " 1   LotFrontage    1201 non-null   float64\n",
            " 2   LotArea        1460 non-null   int64  \n",
            " 3   Street         1460 non-null   int64  \n",
            " 4   LotShape       1460 non-null   int64  \n",
            " 5   LandContour    1460 non-null   int64  \n",
            " 6   Utilities      1460 non-null   int64  \n",
            " 7   LandSlope      1460 non-null   int64  \n",
            " 8   OverallQual    1460 non-null   int64  \n",
            " 9   OverallCond    1460 non-null   int64  \n",
            " 10  YearBuilt      1460 non-null   int64  \n",
            " 11  YearRemodAdd   1460 non-null   int64  \n",
            " 12  MasVnrArea     1452 non-null   float64\n",
            " 13  ExterQual      1460 non-null   int64  \n",
            " 14  ExterCond      1460 non-null   int64  \n",
            " 15  BsmtQual       1423 non-null   float64\n",
            " 16  BsmtCond       1423 non-null   float64\n",
            " 17  BsmtExposure   1422 non-null   float64\n",
            " 18  BsmtFinType1   1423 non-null   float64\n",
            " 19  BsmtFinSF1     1460 non-null   int64  \n",
            " 20  BsmtFinType2   1422 non-null   float64\n",
            " 21  BsmtFinSF2     1460 non-null   int64  \n",
            " 22  BsmtUnfSF      1460 non-null   int64  \n",
            " 23  TotalBsmtSF    1460 non-null   int64  \n",
            " 24  HeatingQC      1460 non-null   int64  \n",
            " 25  CentralAir     1460 non-null   int64  \n",
            " 26  1stFlrSF       1460 non-null   int64  \n",
            " 27  2ndFlrSF       1460 non-null   int64  \n",
            " 28  LowQualFinSF   1460 non-null   int64  \n",
            " 29  GrLivArea      1460 non-null   int64  \n",
            " 30  BsmtFullBath   1460 non-null   int64  \n",
            " 31  BsmtHalfBath   1460 non-null   int64  \n",
            " 32  FullBath       1460 non-null   int64  \n",
            " 33  HalfBath       1460 non-null   int64  \n",
            " 34  BedroomAbvGr   1460 non-null   int64  \n",
            " 35  KitchenAbvGr   1460 non-null   int64  \n",
            " 36  KitchenQual    1460 non-null   int64  \n",
            " 37  TotRmsAbvGrd   1460 non-null   int64  \n",
            " 38  Fireplaces     1460 non-null   int64  \n",
            " 39  FireplaceQu    770 non-null    float64\n",
            " 40  GarageYrBlt    1379 non-null   float64\n",
            " 41  GarageCars     1460 non-null   int64  \n",
            " 42  GarageArea     1460 non-null   int64  \n",
            " 43  GarageQual     1379 non-null   float64\n",
            " 44  GarageCond     1379 non-null   float64\n",
            " 45  WoodDeckSF     1460 non-null   int64  \n",
            " 46  OpenPorchSF    1460 non-null   int64  \n",
            " 47  EnclosedPorch  1460 non-null   int64  \n",
            " 48  3SsnPorch      1460 non-null   int64  \n",
            " 49  ScreenPorch    1460 non-null   int64  \n",
            " 50  PoolArea       1460 non-null   int64  \n",
            " 51  PoolQC         7 non-null      float64\n",
            " 52  MiscVal        1460 non-null   int64  \n",
            " 53  MoSold         1460 non-null   int64  \n",
            " 54  YrSold         1460 non-null   int64  \n",
            " 55  SalePrice      1460 non-null   int64  \n",
            "dtypes: float64(12), int64(44)\n",
            "memory usage: 650.2 KB\n"
          ]
        }
      ],
      "source": [
        "data.info()"
      ]
    },
    {
      "cell_type": "code",
      "execution_count": 8,
      "id": "97d6d153",
      "metadata": {
        "id": "97d6d153"
      },
      "outputs": [],
      "source": [
        "data = data.drop(['PoolQC'], axis = 1)"
      ]
    },
    {
      "cell_type": "code",
      "execution_count": 9,
      "id": "8f032afe",
      "metadata": {
        "id": "8f032afe"
      },
      "outputs": [],
      "source": [
        "data = data.fillna(-1)"
      ]
    },
    {
      "cell_type": "code",
      "source": [
        "data.shape"
      ],
      "metadata": {
        "colab": {
          "base_uri": "https://localhost:8080/"
        },
        "id": "zUJ4UG37gXL6",
        "outputId": "e55bd5c2-7fb6-479a-cdba-6fb008684bb8"
      },
      "id": "zUJ4UG37gXL6",
      "execution_count": 10,
      "outputs": [
        {
          "output_type": "execute_result",
          "data": {
            "text/plain": [
              "(1460, 55)"
            ]
          },
          "metadata": {},
          "execution_count": 10
        }
      ]
    },
    {
      "cell_type": "markdown",
      "id": "8cc1cabe",
      "metadata": {
        "id": "8cc1cabe"
      },
      "source": [
        "## Step 3: Analyze\n",
        "- Feature selection\n",
        "- Model selection\n",
        "- Analyze data"
      ]
    },
    {
      "cell_type": "markdown",
      "id": "c8af8818",
      "metadata": {
        "id": "c8af8818"
      },
      "source": [
        "### Step 3.a: Quasi constant features\n",
        "- Let see if there are any quasi features\n",
        "- Create a `VarianceThreshold(threshold=0.01)` and fit it\n",
        "- The features that are not quasi constant are given by `sel.get_feature_names_out()`\n",
        "- Get all the qausi features as with list comprehension"
      ]
    },
    {
      "cell_type": "code",
      "execution_count": 11,
      "id": "71de06b0",
      "metadata": {
        "colab": {
          "base_uri": "https://localhost:8080/"
        },
        "id": "71de06b0",
        "outputId": "20853acd-06a1-4d84-c8dc-37203fd1156a"
      },
      "outputs": [
        {
          "output_type": "execute_result",
          "data": {
            "text/plain": [
              "VarianceThreshold(threshold=0.01)"
            ]
          },
          "metadata": {},
          "execution_count": 11
        }
      ],
      "source": [
        "sel = VarianceThreshold(threshold=0.01)\n",
        "sel.fit(data)"
      ]
    },
    {
      "cell_type": "code",
      "execution_count": 12,
      "id": "5acc7765",
      "metadata": {
        "colab": {
          "base_uri": "https://localhost:8080/"
        },
        "id": "5acc7765",
        "outputId": "78bb1327-b5b4-4756-cc63-1838792bde07"
      },
      "outputs": [
        {
          "output_type": "execute_result",
          "data": {
            "text/plain": [
              "53"
            ]
          },
          "metadata": {},
          "execution_count": 12
        }
      ],
      "source": [
        "len(sel.get_feature_names_out())"
      ]
    },
    {
      "cell_type": "code",
      "execution_count": 13,
      "id": "b3222c43",
      "metadata": {
        "id": "b3222c43"
      },
      "outputs": [],
      "source": [
        "quasi_features = [col for col in data.columns if col not in sel.get_feature_names_out()]"
      ]
    },
    {
      "cell_type": "code",
      "execution_count": 14,
      "id": "ff989e42",
      "metadata": {
        "colab": {
          "base_uri": "https://localhost:8080/"
        },
        "id": "ff989e42",
        "outputId": "a180db90-0593-4574-cac7-7883ca2f8987"
      },
      "outputs": [
        {
          "output_type": "execute_result",
          "data": {
            "text/plain": [
              "['Street', 'Utilities']"
            ]
          },
          "metadata": {},
          "execution_count": 14
        }
      ],
      "source": [
        "quasi_features"
      ]
    },
    {
      "cell_type": "markdown",
      "id": "fe205474",
      "metadata": {
        "id": "fe205474"
      },
      "source": [
        "### Step 3.b: Correlated features\n",
        "- Calculate the correlation matrix `corr_matrix` and inspect it\n",
        "    - HINT: use `.corr()`\n",
        "- Get all the correlated features\n",
        "    - HINT: A feature is correlated to a feature before it if\n",
        "```Python\n",
        "(corr_matrix[feature].iloc[:corr_matrix.columns.get_loc(feature)] > 0.8).any()\n",
        "```\n",
        "    - HINT: Use list comprehension to get a list of the correlated features"
      ]
    },
    {
      "cell_type": "code",
      "execution_count": 15,
      "id": "a937c402",
      "metadata": {
        "id": "a937c402"
      },
      "outputs": [],
      "source": [
        "corr_matrix = data.corr()"
      ]
    },
    {
      "cell_type": "code",
      "execution_count": 16,
      "id": "406cbddb",
      "metadata": {
        "id": "406cbddb"
      },
      "outputs": [],
      "source": [
        "corr_features = [feature for feature in corr_matrix.columns if (corr_matrix[feature].iloc[:corr_matrix.columns.get_loc(feature)] > 0.8).any()]"
      ]
    },
    {
      "cell_type": "code",
      "execution_count": 17,
      "id": "5c48a1f7",
      "metadata": {
        "colab": {
          "base_uri": "https://localhost:8080/"
        },
        "id": "5c48a1f7",
        "outputId": "9b013b5a-e992-4df0-99a0-ef2f1b7ab41e"
      },
      "outputs": [
        {
          "output_type": "execute_result",
          "data": {
            "text/plain": [
              "['1stFlrSF',\n",
              " 'TotRmsAbvGrd',\n",
              " 'FireplaceQu',\n",
              " 'GarageArea',\n",
              " 'GarageQual',\n",
              " 'GarageCond']"
            ]
          },
          "metadata": {},
          "execution_count": 17
        }
      ],
      "source": [
        "corr_features"
      ]
    },
    {
      "cell_type": "markdown",
      "id": "afea2cf1",
      "metadata": {
        "id": "afea2cf1"
      },
      "source": [
        "### Step 3.c: Prepare training and test set\n",
        "- Assign all features in `X`\n",
        "    - HINT: Use `.drop(['SalePrice'] + quasi_features + corr_features, axis=1)`\n",
        "        - (assuming the same naming)\n",
        "- Assign the target to `y`\n",
        "    - HINT: The target is column `SalePrice`\n",
        "- Split into train and test using `train_test_split`"
      ]
    },
    {
      "cell_type": "code",
      "execution_count": 18,
      "id": "9d8151bb",
      "metadata": {
        "id": "9d8151bb"
      },
      "outputs": [],
      "source": [
        "X = data.drop(['SalePrice'] + quasi_features + corr_features, axis=1)\n",
        "y = data['SalePrice']"
      ]
    },
    {
      "cell_type": "code",
      "execution_count": 19,
      "id": "7e39c769",
      "metadata": {
        "id": "7e39c769"
      },
      "outputs": [],
      "source": [
        "X_train, X_test, y_train, y_test = train_test_split(X,y, random_state = 0)"
      ]
    },
    {
      "cell_type": "markdown",
      "id": "5882ae37",
      "metadata": {
        "id": "5882ae37"
      },
      "source": [
        "### Step 3.d: 10 best features for LinearRegression model\n",
        "- Use the `SFS` to find 10 best features for a `LinearRegression` model\n",
        "    - HINT: `SFS(LinearRegression(), k_features=10, verbose=2)`\n",
        "    - HINT: when fitting fill missing values or remove them\n",
        "        - Notice: ideally we would investigate them further to find appropriate values\n",
        "- You get the best feature index from `.k_feature_idx_`"
      ]
    },
    {
      "cell_type": "code",
      "execution_count": 20,
      "id": "53d96de9",
      "metadata": {
        "id": "53d96de9"
      },
      "outputs": [],
      "source": [
        "sfs = SFS(LinearRegression(), k_features = 10, verbose = 2)"
      ]
    },
    {
      "cell_type": "code",
      "execution_count": 21,
      "id": "dce0d868",
      "metadata": {
        "colab": {
          "base_uri": "https://localhost:8080/"
        },
        "id": "dce0d868",
        "outputId": "25052a50-b6f0-43cf-d888-6d06c27d7f1f"
      },
      "outputs": [
        {
          "output_type": "stream",
          "name": "stderr",
          "text": [
            "[Parallel(n_jobs=1)]: Using backend SequentialBackend with 1 concurrent workers.\n",
            "[Parallel(n_jobs=1)]: Done   1 out of   1 | elapsed:    0.0s remaining:    0.0s\n",
            "[Parallel(n_jobs=1)]: Done  46 out of  46 | elapsed:    0.5s finished\n",
            "\n",
            "[2023-02-18 16:23:22] Features: 1/10 -- score: 0.6126893627288714[Parallel(n_jobs=1)]: Using backend SequentialBackend with 1 concurrent workers.\n",
            "[Parallel(n_jobs=1)]: Done   1 out of   1 | elapsed:    0.0s remaining:    0.0s\n",
            "[Parallel(n_jobs=1)]: Done  45 out of  45 | elapsed:    0.4s finished\n",
            "\n",
            "[2023-02-18 16:23:22] Features: 2/10 -- score: 0.7190976519156257[Parallel(n_jobs=1)]: Using backend SequentialBackend with 1 concurrent workers.\n",
            "[Parallel(n_jobs=1)]: Done   1 out of   1 | elapsed:    0.0s remaining:    0.0s\n",
            "[Parallel(n_jobs=1)]: Done  44 out of  44 | elapsed:    0.4s finished\n",
            "\n",
            "[2023-02-18 16:23:22] Features: 3/10 -- score: 0.7711947823299818[Parallel(n_jobs=1)]: Using backend SequentialBackend with 1 concurrent workers.\n",
            "[Parallel(n_jobs=1)]: Done   1 out of   1 | elapsed:    0.0s remaining:    0.0s\n",
            "[Parallel(n_jobs=1)]: Done  43 out of  43 | elapsed:    0.4s finished\n",
            "\n",
            "[2023-02-18 16:23:23] Features: 4/10 -- score: 0.7940453445923807[Parallel(n_jobs=1)]: Using backend SequentialBackend with 1 concurrent workers.\n",
            "[Parallel(n_jobs=1)]: Done   1 out of   1 | elapsed:    0.0s remaining:    0.0s\n",
            "[Parallel(n_jobs=1)]: Done  42 out of  42 | elapsed:    0.4s finished\n",
            "\n",
            "[2023-02-18 16:23:23] Features: 5/10 -- score: 0.8078796820663859[Parallel(n_jobs=1)]: Using backend SequentialBackend with 1 concurrent workers.\n",
            "[Parallel(n_jobs=1)]: Done   1 out of   1 | elapsed:    0.0s remaining:    0.0s\n",
            "[Parallel(n_jobs=1)]: Done  41 out of  41 | elapsed:    0.3s finished\n",
            "\n",
            "[2023-02-18 16:23:24] Features: 6/10 -- score: 0.8171905228370505[Parallel(n_jobs=1)]: Using backend SequentialBackend with 1 concurrent workers.\n",
            "[Parallel(n_jobs=1)]: Done   1 out of   1 | elapsed:    0.0s remaining:    0.0s\n",
            "[Parallel(n_jobs=1)]: Done  40 out of  40 | elapsed:    0.4s finished\n",
            "\n",
            "[2023-02-18 16:23:24] Features: 7/10 -- score: 0.8248996546748835[Parallel(n_jobs=1)]: Using backend SequentialBackend with 1 concurrent workers.\n",
            "[Parallel(n_jobs=1)]: Done   1 out of   1 | elapsed:    0.0s remaining:    0.0s\n",
            "[Parallel(n_jobs=1)]: Done  39 out of  39 | elapsed:    0.3s finished\n",
            "\n",
            "[2023-02-18 16:23:24] Features: 8/10 -- score: 0.8290551509684339[Parallel(n_jobs=1)]: Using backend SequentialBackend with 1 concurrent workers.\n",
            "[Parallel(n_jobs=1)]: Done   1 out of   1 | elapsed:    0.0s remaining:    0.0s\n",
            "[Parallel(n_jobs=1)]: Done  38 out of  38 | elapsed:    0.5s finished\n",
            "\n",
            "[2023-02-18 16:23:25] Features: 9/10 -- score: 0.8335999430273071[Parallel(n_jobs=1)]: Using backend SequentialBackend with 1 concurrent workers.\n",
            "[Parallel(n_jobs=1)]: Done   1 out of   1 | elapsed:    0.0s remaining:    0.0s\n",
            "[Parallel(n_jobs=1)]: Done  37 out of  37 | elapsed:    0.4s finished\n",
            "\n",
            "[2023-02-18 16:23:25] Features: 10/10 -- score: 0.8368859078710514"
          ]
        },
        {
          "output_type": "execute_result",
          "data": {
            "text/plain": [
              "SequentialFeatureSelector(estimator=LinearRegression(), k_features=(10, 10),\n",
              "                          scoring='r2', verbose=2)"
            ]
          },
          "metadata": {},
          "execution_count": 21
        }
      ],
      "source": [
        "sfs.fit(X_train, y_train)"
      ]
    },
    {
      "cell_type": "code",
      "execution_count": 22,
      "id": "083a4f02",
      "metadata": {
        "colab": {
          "base_uri": "https://localhost:8080/"
        },
        "id": "083a4f02",
        "outputId": "52beff18-f14b-45f8-dbc9-901059882857"
      },
      "outputs": [
        {
          "output_type": "execute_result",
          "data": {
            "text/plain": [
              "(0, 2, 6, 10, 11, 15, 17, 26, 33, 36)"
            ]
          },
          "metadata": {},
          "execution_count": 22
        }
      ],
      "source": [
        "sfs.k_feature_idx_"
      ]
    },
    {
      "cell_type": "markdown",
      "id": "861f96ea",
      "metadata": {
        "id": "861f96ea"
      },
      "source": [
        "### Step 3.e: Test the result\n",
        "- Create a normal `LinearRegression` model and run it on full data and calculate the r2_score\n",
        "- Then do the same for only the 10 best features\n",
        "- Did the score surprice you?\n",
        "    - Notice that the test score is far from as good as from `SFS`"
      ]
    },
    {
      "cell_type": "code",
      "execution_count": 23,
      "id": "13ec0744",
      "metadata": {
        "colab": {
          "base_uri": "https://localhost:8080/"
        },
        "id": "13ec0744",
        "outputId": "cbfa7986-8384-4563-e141-b0c0962c63cf"
      },
      "outputs": [
        {
          "output_type": "execute_result",
          "data": {
            "text/plain": [
              "0.7110172392141771"
            ]
          },
          "metadata": {},
          "execution_count": 23
        }
      ],
      "source": [
        "lin = LinearRegression()\n",
        "lin.fit(X_train, y_train)\n",
        "y_pred = lin.predict(X_test)\n",
        "r2_score(y_test, y_pred)"
      ]
    },
    {
      "cell_type": "code",
      "execution_count": 24,
      "id": "d18f4e00",
      "metadata": {
        "colab": {
          "base_uri": "https://localhost:8080/"
        },
        "id": "d18f4e00",
        "outputId": "35af631c-65c2-436c-c484-a939f02c2b16"
      },
      "outputs": [
        {
          "output_type": "execute_result",
          "data": {
            "text/plain": [
              "0.7239540198372434"
            ]
          },
          "metadata": {},
          "execution_count": 24
        }
      ],
      "source": [
        "lin = LinearRegression()\n",
        "\n",
        "columns = X_train.columns[list(sfs.k_feature_idx_)]\n",
        "\n",
        "lin.fit(X_train[columns], y_train)\n",
        "y_pred = lin.predict(X_test[columns])\n",
        "r2_score(y_test, y_pred)"
      ]
    },
    {
      "cell_type": "code",
      "execution_count": 24,
      "id": "b716b634",
      "metadata": {
        "id": "b716b634"
      },
      "outputs": [],
      "source": []
    },
    {
      "cell_type": "markdown",
      "id": "494a6bb3",
      "metadata": {
        "id": "494a6bb3"
      },
      "source": [
        "### Step 3.f: Test with 10 highest correlated features\n",
        "- Find the 10 highest correlated features\n",
        "    - HITN: `corr_matrix['SalePrice'].sort_values(ascending=False)`\n",
        "- Then calculate the `r2_score` for them.\n",
        "- Does the score surprice you?"
      ]
    },
    {
      "cell_type": "code",
      "execution_count": 25,
      "id": "a8754c36",
      "metadata": {
        "id": "a8754c36"
      },
      "outputs": [],
      "source": [
        "columns = corr_matrix['SalePrice'].sort_values(ascending=False)[1:11].index"
      ]
    },
    {
      "cell_type": "code",
      "execution_count": 26,
      "id": "52395c06",
      "metadata": {
        "colab": {
          "base_uri": "https://localhost:8080/"
        },
        "id": "52395c06",
        "outputId": "69a0b3fb-ec7e-4ecd-9e97-59720569c0b5"
      },
      "outputs": [
        {
          "output_type": "execute_result",
          "data": {
            "text/plain": [
              "0.7028207002269165"
            ]
          },
          "metadata": {},
          "execution_count": 26
        }
      ],
      "source": [
        "X_train, X_test, y_train, y_test = train_test_split(data.drop('SalePrice', axis = 1), y, random_state = 0)\n",
        "\n",
        "lin = LinearRegression()\n",
        "lin.fit(X_train[columns], y_train)\n",
        "y_pred = lin.predict(X_test[columns])\n",
        "r2_score(y_test, y_pred)"
      ]
    },
    {
      "cell_type": "markdown",
      "id": "98a71ee2",
      "metadata": {
        "id": "98a71ee2"
      },
      "source": [
        "## Step 4: Report\n",
        "- Present findings\n",
        "- Visualize results\n",
        "- Credibility counts"
      ]
    },
    {
      "cell_type": "markdown",
      "id": "117dbfe5",
      "metadata": {
        "id": "117dbfe5"
      },
      "source": [
        "### Step 4.a: Present findings\n",
        "- Use the analysis from Step 3 to figures out how to present your findings\n",
        "- Try to think how the real estate dealer can use these findings"
      ]
    },
    {
      "cell_type": "code",
      "execution_count": 27,
      "id": "34d20295",
      "metadata": {
        "id": "34d20295",
        "colab": {
          "base_uri": "https://localhost:8080/"
        },
        "outputId": "50649548-df34-4846-875b-dc46262f238e"
      },
      "outputs": [
        {
          "output_type": "execute_result",
          "data": {
            "text/plain": [
              "Index(['MSSubClass', 'LotArea', 'Utilities', 'YearBuilt', 'YearRemodAdd',\n",
              "       'BsmtQual', 'BsmtExposure', '1stFlrSF', 'HalfBath', 'KitchenQual'],\n",
              "      dtype='object')"
            ]
          },
          "metadata": {},
          "execution_count": 27
        }
      ],
      "source": [
        "#Feature that matters\n",
        "X_train.columns[list(sfs.k_feature_idx_)]"
      ]
    },
    {
      "cell_type": "code",
      "execution_count": 27,
      "id": "a3474705",
      "metadata": {
        "id": "a3474705"
      },
      "outputs": [],
      "source": []
    },
    {
      "cell_type": "markdown",
      "id": "65c865f1",
      "metadata": {
        "id": "65c865f1"
      },
      "source": [
        "## Step 5: Actions\n",
        "- Use insights\n",
        "- Measure impact\n",
        "- Main goal"
      ]
    },
    {
      "cell_type": "markdown",
      "id": "19018bc3",
      "metadata": {
        "id": "19018bc3"
      },
      "source": [
        "### Step 5.a: Measure impact\n",
        "- Can we help the dealer to use these insights?"
      ]
    },
    {
      "cell_type": "code",
      "execution_count": 27,
      "id": "eb02ee29",
      "metadata": {
        "id": "eb02ee29"
      },
      "outputs": [],
      "source": []
    },
    {
      "cell_type": "code",
      "execution_count": 27,
      "id": "785e0600",
      "metadata": {
        "id": "785e0600"
      },
      "outputs": [],
      "source": []
    }
  ],
  "metadata": {
    "kernelspec": {
      "display_name": "Python 3 (ipykernel)",
      "language": "python",
      "name": "python3"
    },
    "language_info": {
      "codemirror_mode": {
        "name": "ipython",
        "version": 3
      },
      "file_extension": ".py",
      "mimetype": "text/x-python",
      "name": "python",
      "nbconvert_exporter": "python",
      "pygments_lexer": "ipython3",
      "version": "3.9.12"
    },
    "colab": {
      "provenance": [],
      "include_colab_link": true
    }
  },
  "nbformat": 4,
  "nbformat_minor": 5
}